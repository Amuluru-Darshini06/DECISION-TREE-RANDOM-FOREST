{
  "metadata": {
    "kernelspec": {
      "name": "python",
      "display_name": "Python (Pyodide)",
      "language": "python"
    },
    "language_info": {
      "codemirror_mode": {
        "name": "python",
        "version": 3
      },
      "file_extension": ".py",
      "mimetype": "text/x-python",
      "name": "python",
      "nbconvert_exporter": "python",
      "pygments_lexer": "ipython3",
      "version": "3.8"
    }
  },
  "nbformat_minor": 5,
  "nbformat": 4,
  "cells": [
    {
      "id": "59c233c5-07b0-41e7-9c1a-699a3b44454f",
      "cell_type": "code",
      "source": "# Import libraries\nimport pandas as pd\nfrom sklearn.datasets import load_iris\nfrom sklearn.model_selection import train_test_split, GridSearchCV\nfrom sklearn.tree import DecisionTreeClassifier\nfrom sklearn.ensemble import RandomForestClassifier\nfrom sklearn.metrics import accuracy_score, classification_report\n\n# Load dataset\niris = load_iris()\nX = pd.DataFrame(iris.data, columns=iris.feature_names)\ny = pd.Series(iris.target)\n\n# Split data\nX_train, X_test, y_train, y_test = train_test_split(X, y, test_size=0.2, random_state=42)\n\n# Decision Tree with GridSearchCV\ndt_params = {\n    'max_depth': [2, 3, 4, 5, None],\n    'criterion': ['gini', 'entropy']\n}\ndt_grid = GridSearchCV(DecisionTreeClassifier(random_state=42), dt_params, cv=5)\ndt_grid.fit(X_train, y_train)\n\n# Predictions\ndt_preds = dt_grid.predict(X_test)\n\n# Evaluation\nprint(\"Best Decision Tree Parameters:\", dt_grid.best_params_)\nprint(\"Decision Tree Accuracy:\", accuracy_score(y_test, dt_preds))\nprint(\"Classification Report (Decision Tree):\\n\", classification_report(y_test, dt_preds))\n\n# Random Forest with GridSearchCV\nrf_params = {\n    'n_estimators': [50, 100],\n    'max_depth': [3, 5, None],\n    'criterion': ['gini', 'entropy']\n}\nrf_grid = GridSearchCV(RandomForestClassifier(random_state=42), rf_params, cv=5)\nrf_grid.fit(X_train, y_train)\n\n# Predictions\nrf_preds = rf_grid.predict(X_test)\n\n# Evaluation\nprint(\"\\nBest Random Forest Parameters:\", rf_grid.best_params_)\nprint(\"Random Forest Accuracy:\", accuracy_score(y_test, rf_preds))\nprint(\"Classification Report (Random Forest):\\n\", classification_report(y_test, rf_preds))\n",
      "metadata": {
        "trusted": true
      },
      "outputs": [
        {
          "name": "stdout",
          "output_type": "stream",
          "text": "Best Decision Tree Parameters: {'criterion': 'gini', 'max_depth': 4}\nDecision Tree Accuracy: 1.0\nClassification Report (Decision Tree):\n               precision    recall  f1-score   support\n\n           0       1.00      1.00      1.00        10\n           1       1.00      1.00      1.00         9\n           2       1.00      1.00      1.00        11\n\n    accuracy                           1.00        30\n   macro avg       1.00      1.00      1.00        30\nweighted avg       1.00      1.00      1.00        30\n\n\nBest Random Forest Parameters: {'criterion': 'gini', 'max_depth': 3, 'n_estimators': 50}\nRandom Forest Accuracy: 1.0\nClassification Report (Random Forest):\n               precision    recall  f1-score   support\n\n           0       1.00      1.00      1.00        10\n           1       1.00      1.00      1.00         9\n           2       1.00      1.00      1.00        11\n\n    accuracy                           1.00        30\n   macro avg       1.00      1.00      1.00        30\nweighted avg       1.00      1.00      1.00        30\n\n"
        }
      ],
      "execution_count": 1
    },
    {
      "id": "b459eaee-213a-4ae8-9f4c-1d87e6b67802",
      "cell_type": "code",
      "source": "",
      "metadata": {
        "trusted": true
      },
      "outputs": [],
      "execution_count": null
    }
  ]
}